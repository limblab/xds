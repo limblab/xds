{
 "cells": [
  {
   "cell_type": "markdown",
   "id": "04a01c0c",
   "metadata": {},
   "source": [
    "# A tutorial for the `xds` data structure for neural recordings"
   ]
  },
  {
   "cell_type": "markdown",
   "id": "d14840d1",
   "metadata": {},
   "source": [
    "## Background"
   ]
  },
  {
   "cell_type": "markdown",
   "id": "6be19f59",
   "metadata": {},
   "source": [
    "Over the past decades, the Miller Limb Lab has been collecting physiological signals characterizing neural motor control in animal subjects. The codes and scripts for the processing and analyses of these data have been put together as the [ClassyDataAnalysis](https://github.com/limblab/ClassyDataAnalysis) under `MATLAB` environment. In order to maintain the consistency of data structure and processing pipeline in a different environment, @xuanma proposed to develop `cross-platform data structure` (xds) as an extension of `ClassyDataAnalysis` that can be used in `Python`.\n",
    "\n",
    "The Miller Limb Lab has been using the equipment produced by [Blackrock Inc.](https://blackrockneurotech.com/) for the acquisition of neural signals. The scripts in `ClassyDataAnalysis` read the data recorded by such equipment and convert them into a format that can be loaded in `MATLAB`. `xds` keeps using these scripts for raw data converting due to a variety of reasons, and related codes could be found in [xds_matlab](https://github.com/limblab/xds/tree/master/xds_matlab).\n",
    "\n",
    "As general users of the data collected by the Miller Limb Lab, it is not necessary to understand every piece of the codes. Here we recommend you to focus on `xds_python` and create your own analysis codes on top of it. This tutorial will tell you how to load, process and use the data with `xds`."
   ]
  },
  {
   "cell_type": "markdown",
   "id": "5c20eb6c",
   "metadata": {},
   "source": [
    "## Where can I get the codes?"
   ]
  },
  {
   "cell_type": "markdown",
   "id": "e8c6a984",
   "metadata": {},
   "source": [
    "Please use `git clone https://github.com/limblab/xds.git` to get the codes from this [repo](https://github.com/limblab/xds/tree/master)."
   ]
  },
  {
   "cell_type": "markdown",
   "id": "8defbc56",
   "metadata": {},
   "source": [
    "## What should I do to import xds as a package?"
   ]
  },
  {
   "cell_type": "markdown",
   "id": "a9966ee3",
   "metadata": {},
   "source": [
    "Simply use\n",
    "```\n",
    "import sys\n",
    "sys.path.append('your own path/xds/xds_python/') \n",
    "\n",
    "# the directory being added is like 'C:/Users/Blackberry/xds/xds_python' or\n",
    "# '/home/xds/xds_python'\n",
    "```\n",
    "to add the xds_python codes in your `Python` path.\n",
    "\n",
    "Please note that under the folder `xds` there are two subfolders: `xds_matlab` and `xds_python`, in the codes above what has been added into the path is `xds_python`.\n",
    "\n",
    "Once being added to the path, you need to import the `lab_data` class from `xds` in order to proceed:\n",
    "```\n",
    "from xds import lab_data\n",
    "```"
   ]
  },
  {
   "cell_type": "markdown",
   "id": "f293e35b",
   "metadata": {},
   "source": [
    "## How to load a data file?"
   ]
  },
  {
   "cell_type": "markdown",
   "id": "2f838cc2",
   "metadata": {},
   "source": [
    "Just use the constructor of `lab_data` to create an `xds` instance. You need to provide **the path to the data file** and **the name of the data file**."
   ]
  },
  {
   "cell_type": "code",
   "execution_count": 15,
   "id": "de028bef",
   "metadata": {},
   "outputs": [
    {
     "name": "stdout",
     "output_type": "stream",
     "text": [
      "Trials with nan timings have been removed!\n",
      "Are there EMGs? 1\n",
      "Are there cursor trajectories? 1\n",
      "Are there forces? 1\n",
      "\n",
      "The units names are ['elec93', 'elec92', 'elec94', 'elec95', 'elec75', 'elec96', 'elec85', 'elec97', 'elec86', 'elec98', 'elec87', 'elec88', 'elec77', 'elec99', 'elec66', 'elec89', 'elec76', 'elec90', 'elec67', 'elec79', 'elec58', 'elec80', 'elec78', 'elec70', 'elec68', 'elec60', 'elec69', 'elec50', 'elec59', 'elec40', 'elec49', 'elec100', 'elec83', 'elec84', 'elec73', 'elec74', 'elec63', 'elec64', 'elec53', 'elec54', 'elec43', 'elec55', 'elec44', 'elec45', 'elec33', 'elec46', 'elec34', 'elec65', 'elec24', 'elec56', 'elec35', 'elec47', 'elec25', 'elec57', 'elec26', 'elec36', 'elec27', 'elec37', 'elec28', 'elec38', 'elec29', 'elec48', 'elec19', 'elec39', 'elec81', 'elec82', 'elec71', 'elec72', 'elec61', 'elec62', 'elec51', 'elec52', 'elec41', 'elec42', 'elec31', 'elec32', 'elec21', 'elec22', 'elec11', 'elec12', 'elec2', 'elec23', 'elec3', 'elec13', 'elec4', 'elec14', 'elec15', 'elec5', 'elec16', 'elec6', 'elec17', 'elec7', 'elec8', 'elec18', 'elec20', 'elec9']\n",
      "\n",
      "The muscle names are ['EMG_FCU', 'EMG_EDCr', 'EMG_ECU', 'EMG_ECRb', 'EMG_ECRl', 'EMG_FDP', 'EMG_FCR']\n"
     ]
    }
   ],
   "source": [
    "from xds import lab_data\n",
    "data_path = 'the path to your data files'\n",
    "file_name = 'Jango_20150730_001.mat'\n",
    "my_xds = lab_data(data_path, file_name) # Load the data using the lab_data class in xds.py\n",
    "print('Are there EMGs? %d'%(my_xds.has_EMG))\n",
    "print('Are there cursor trajectories? %d'%(my_xds.has_cursor))\n",
    "print('Are there forces? %d'%(my_xds.has_force))\n",
    "\n",
    "print('\\nThe units names are %s'%(my_xds.unit_names))\n",
    "if my_xds.has_EMG:\n",
    "    print('\\nThe muscle names are %s'%(my_xds.EMG_names))"
   ]
  },
  {
   "cell_type": "markdown",
   "id": "3cd816e1",
   "metadata": {},
   "source": [
    "`my_xds` is the `lab_data` instance created by the codes and contains all the data, including\n",
    "* spike timings\n",
    "* spike counts in consecutive time windows\n",
    "* unit name or electrode name (depend on spike sorted or not)\n",
    "* cursor trajectories (if any)\n",
    "* EMGs (if any)\n",
    "* muscle names for EMGs (if any)\n",
    "* forces (if any)\n",
    "\n",
    "By default, the spike counts have been calculated by binning in 1 ms bins, and synchronized with EMG, force or cursor trajectory data (if any)."
   ]
  },
  {
   "cell_type": "markdown",
   "id": "313bdf5a",
   "metadata": {},
   "source": [
    "## How can I re-bin the data using a different time bin?"
   ]
  },
  {
   "cell_type": "markdown",
   "id": "3d1162ba",
   "metadata": {},
   "source": [
    "Please use the codes below"
   ]
  },
  {
   "cell_type": "code",
   "execution_count": 16,
   "id": "0798f086",
   "metadata": {},
   "outputs": [
    {
     "name": "stdout",
     "output_type": "stream",
     "text": [
      "The new bin size is 0.0500 s\n"
     ]
    }
   ],
   "source": [
    "new_bin_size = 0.05 # the unit is in seconds, here 0.05 s is 50 ms\n",
    "my_xds.update_bin_data(new_bin_size)  # Bin the spikes with the specified bin_size"
   ]
  },
  {
   "cell_type": "markdown",
   "id": "2e81d478",
   "metadata": {},
   "source": [
    "All the data, including EMGs, forces, and cursor trajectories (if any), have been re-binned using the codes above.\n",
    "\n",
    "After the binning, you can also smooth the spike counts to get a smooth estimation of the neural firing rates."
   ]
  },
  {
   "cell_type": "code",
   "execution_count": 17,
   "id": "6fd2ea3e",
   "metadata": {},
   "outputs": [],
   "source": [
    "smooth_size = 0.1 # the S.D. of the smooth kernel\n",
    "my_xds.smooth_binned_spikes(new_bin_size, 'gaussian', smooth_size) # Smooth the binned spike counts"
   ]
  },
  {
   "cell_type": "markdown",
   "id": "d2c31d59",
   "metadata": {},
   "source": [
    "## How can I split the data into trials?"
   ]
  },
  {
   "cell_type": "markdown",
   "id": "71d0d2b8",
   "metadata": {},
   "source": [
    "The trial based analysis are necessary in most cases. Here we provide these functions to enable the extraction of data in trials:\n",
    "* get_trials_data_spike_counts( my_type, trial_start, time_ahead, end_event, end_time_offset )\n",
    "* get_trials_data_EMG( my_type, trial_start, time_ahead, end_event, end_time_offset, EMG_channels = 'all' )\n",
    "* get_trials_data_force( my_type, trial_start, time_ahead, end_event, end_time_offset )\n",
    "* get_trials_data_cursor( my_type, trial_start, time_ahead, end_event, end_time_offset )\n",
    "\n",
    "These functions share most of the input parameters:\n",
    "* my_type: a character specifying the type of trials:\n",
    "    * 'R': rewarded trials or successful trials\n",
    "    * 'F': failed trials\n",
    "    * 'A': aborted trials\n",
    "* trial_start: a string specifying the start event when splitting the data into trials, please select among:\n",
    "    * 'start_time': the start time of trials by the definition of the behavioral paradigm\n",
    "    * 'gocue_time': the time when the gocue appears\n",
    "    * 'force_onset_time': the time when the onset of force was detected\n",
    "    * 'movement_onset_time': the time when the onset of movement was detected (use this when there is no force recordings)\n",
    "    * 'end_time': the end time of trials by the definition of the behavioral paradigm\n",
    "* time_ahead: a number, the amount of time you want to take before the trial_start event, can be negative\n",
    "* end_event: a string specifying the end event when splitting the data into trials, same as `trial_start`\n",
    "* end_time_offset: a number, the amount of time you want to take after the end_event, can be negative\n",
    "\n",
    "For the function `get_trials_data_EMG`, there is an additional parameter specifying if picking all or a subset of EMG channels:\n",
    "* EMG_channels: by default, it's 'all'. If you want to select a subset of EMGs, please provide a list like `['EMG_FCU', 'EMG_EDCr', 'EMG_ECU']`.\n",
    "\n",
    "The outputs of `get_trials_data_spike_counts`, `get_trials_data_EMG`, `get_trials_data_force` are all `list`, where each element in the list is a `numpy` array containing the data from one trial. After the trial extraction, all the data are still perfectly synchronized on a trial basis.\n",
    "\n",
    "The outputs of `get_trials_data_cursor` is a list of three lists, corresponding to position, velocity and acceleration. The elements in each list are `numpy` arrays for trials.\n",
    "\n",
    "So, if you want to extract the portion exactly between **'start_time'** and **'end_time'** for all successful trials, please use these codes:"
   ]
  },
  {
   "cell_type": "code",
   "execution_count": 24,
   "id": "a457a1c7",
   "metadata": {},
   "outputs": [
    {
     "name": "stdout",
     "output_type": "stream",
     "text": [
      "The type of spike_counts is <class 'list'>\n",
      "The type of EMG is <class 'list'>\n"
     ]
    }
   ],
   "source": [
    "spike_counts = my_xds.get_trials_data_spike_counts('R', 'start_time', 0.0, 'end_time', 0.0)\n",
    "EMG = my_xds.get_trials_data_EMG('R', 'start_time', 0.0, 'end_time', 0.0, EMG_channels = 'all')\n",
    "force = my_xds.get_trials_data_force('R', 'start_time', 0.0, 'end_time', 0.0)\n",
    "#--------------------- cursor trajectories ---------------------------- #\n",
    "position = my_xds.get_trials_data_cursor('R', 'start_time', 0.0, 'end_time', 0.0)[0]\n",
    "velocity = my_xds.get_trials_data_cursor('R', 'start_time', 0.0, 'end_time', 0.0)[1]\n",
    "acceleration = my_xds.get_trials_data_cursor('R', 'start_time', 0.0, 'end_time', 0.0)[2]\n",
    "\n",
    "print('The type of spike_counts is %s'%type(spike_counts))\n",
    "print('The type of EMG is %s'%type(EMG))"
   ]
  },
  {
   "cell_type": "markdown",
   "id": "fcafa608",
   "metadata": {},
   "source": [
    "In the case above the lengths of the trials are different.\n",
    "\n",
    "If you want to align the trials according to a specific event like 'gocue', and to take **0.5s before the event** and **1s after the event**, please use the codes below:"
   ]
  },
  {
   "cell_type": "code",
   "execution_count": 19,
   "id": "1e1abf03",
   "metadata": {},
   "outputs": [],
   "source": [
    "spike_counts = my_xds.get_trials_data_spike_counts('R', 'gocue_time', 0.5, 'gocue_time', 1.0)\n",
    "EMG = my_xds.get_trials_data_EMG('R', 'gocue_time', 0.5, 'gocue_time', 1.0, EMG_channels = 'all')\n",
    "force = my_xds.get_trials_data_force('R', 'gocue_time', 0.5, 'gocue_time', 1.0)"
   ]
  },
  {
   "cell_type": "markdown",
   "id": "7298d463",
   "metadata": {},
   "source": [
    "In the case above the lengths of the trials are the same.\n",
    "\n",
    "Further, if you want align and extract the trials according to **force onset time**, please call the function **`compute_force_onset_time`** first. "
   ]
  },
  {
   "cell_type": "code",
   "execution_count": 20,
   "id": "dcfd7cf7",
   "metadata": {},
   "outputs": [
    {
     "name": "stdout",
     "output_type": "stream",
     "text": [
      "Get the force onset time!\n"
     ]
    }
   ],
   "source": [
    "my_xds.compute_force_onset_time()\n",
    "spike_counts = my_xds.get_trials_data_spike_counts('R', 'force_onset_time', 0.5, 'force_onset_time', 1.0)\n",
    "EMG = my_xds.get_trials_data_EMG('R', 'force_onset_time', 0.5, 'force_onset_time', 1.0, EMG_channels = 'all')\n",
    "force = my_xds.get_trials_data_force('R', 'force_onset_time', 0.5, 'force_onset_time', 1.0)"
   ]
  },
  {
   "cell_type": "markdown",
   "id": "a05a964d",
   "metadata": {},
   "source": [
    "## How can I get the information for the trials?"
   ]
  },
  {
   "cell_type": "markdown",
   "id": "d5bdcad1",
   "metadata": {},
   "source": [
    "We provided a function `get_trial_info` to do this job:\n",
    "* get_trial_info(my_type = 'R')\n",
    "\n",
    "It will return the information of trials of a specific type ('R', 'F' or 'A') in a list, where you can find information like the direction of the target, the corners and centers of the target for each trial. "
   ]
  },
  {
   "cell_type": "markdown",
   "id": "ac4f4a1b",
   "metadata": {},
   "source": [
    "## Can I sort the trials according to specific trial conditions?"
   ]
  },
  {
   "cell_type": "markdown",
   "id": "ed3add3b",
   "metadata": {},
   "source": [
    "To do this job we provided two functions:\n",
    "* sort_trials_target_dir(data_type, target_dir_list, trial_type, time_params, EMG_channels = 'all')\n",
    "* sort_trials_target_center(x_or_y, data_type, target_center_list, trial_type, time_params, EMG_channels = 'all')\n",
    "\n",
    "Most inputs are the same between them, please check the details below:\n",
    "* data_type: a string specifying the type of data you want, please select among these:\n",
    "    * 'spike_counts': if you want spike counts\n",
    "    * 'EMG': if you want EMGs\n",
    "    * 'force': if you want forces\n",
    "    * 'cursor': if you want the position, velocity and acceleration of the cursor trajectories\n",
    "* target_dir_list: a list of target directions you want to include.\n",
    "* trial_type: 'R', 'F', or 'A', see cells above.\n",
    "* time_param: a dictionary specifying the events and time to extract and align trials, please check the example codes below.\n",
    "* EMG_channels: 'all' or a list containing the names of EMG channels you want.\n",
    "\n",
    "For `sort_trials_target_center` there are two inputs that are different from `sort_trials_target_dir`:\n",
    "* x_or_y: a character specifying if you want to use the **x coordinates** or **y coordinates** of the target centers to sort the trials, can be 'x' or 'y'.\n",
    "* target_center_list: a list of target centers (eigher x coordinates or y coordinates) you want to include.\n",
    "\n",
    "Here let's sort trials according to the directions of the targets, and align trials according to the gocue."
   ]
  },
  {
   "cell_type": "code",
   "execution_count": 36,
   "id": "e2aec3ea",
   "metadata": {},
   "outputs": [
    {
     "name": "stdout",
     "output_type": "stream",
     "text": [
      "The directions of the targets in this dataset are [0.0, -90.0, 135.0, 45.0, -45.0, 180.0, -135.0, 90.0] degrees.\n",
      "The length of the list spike_counts is 8\n",
      "The length of the list EMG is 8\n"
     ]
    }
   ],
   "source": [
    "time_params = {\n",
    "    'start_event': 'gocue_time',\n",
    "    'time_before_start': 0.5, # the time before the start event is 0.5s\n",
    "    'end_event': 'gocue_time',\n",
    "    'time_after_end': 1 # the time after the end event is 1s\n",
    "}\n",
    "\n",
    "target_dir_list = list(set(my_xds.trial_target_dir)) # get a list for the directions of the targets across all the trials\n",
    "print('The directions of the targets in this dataset are %s degrees.'%(target_dir_list))\n",
    "trial_type = 'R'\n",
    "\n",
    "spike_counts = my_xds.sort_trials_target_dir('spike_counts', target_dir_list, trial_type, time_params)\n",
    "print('The length of the list spike_counts is %d'%(len(spike_counts)))\n",
    "EMG = my_xds.sort_trials_target_dir('spike_counts', target_dir_list, trial_type, time_params, EMG_channels = 'all')\n",
    "print('The length of the list EMG is %d'%(len(EMG)))"
   ]
  },
  {
   "cell_type": "markdown",
   "id": "380ec171",
   "metadata": {},
   "source": [
    "Since the targets are in 8 different directions in this dataset, the lengths of the extracted lists `spike_counts` and `EMG` are 8, where each element is a list containing the trials for this target direction."
   ]
  },
  {
   "cell_type": "markdown",
   "id": "d3e2c952",
   "metadata": {},
   "source": [
    "## What if I want continuous recordings?"
   ]
  },
  {
   "cell_type": "markdown",
   "id": "d587e63f",
   "metadata": {},
   "source": [
    "Please use the codes below:"
   ]
  },
  {
   "cell_type": "code",
   "execution_count": 25,
   "id": "42f0c912",
   "metadata": {},
   "outputs": [],
   "source": [
    "cont_time_frame = my_xds.time_frame\n",
    "cont_spike_counts = my_xds.spike_counts\n",
    "cont_EMG = my_xds.EMG"
   ]
  },
  {
   "cell_type": "markdown",
   "id": "0a983206",
   "metadata": {},
   "source": [
    "Then you can use `cont_time_frame` to help select a portion of data."
   ]
  }
 ],
 "metadata": {
  "kernelspec": {
   "display_name": "Python 3 (ipykernel)",
   "language": "python",
   "name": "python3"
  },
  "language_info": {
   "codemirror_mode": {
    "name": "ipython",
    "version": 3
   },
   "file_extension": ".py",
   "mimetype": "text/x-python",
   "name": "python",
   "nbconvert_exporter": "python",
   "pygments_lexer": "ipython3",
   "version": "3.7.13"
  }
 },
 "nbformat": 4,
 "nbformat_minor": 5
}
